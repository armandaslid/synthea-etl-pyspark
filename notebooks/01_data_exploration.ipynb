{
 "cells": [
  {
   "cell_type": "code",
   "execution_count": 36,
   "id": "fb434a1e",
   "metadata": {},
   "outputs": [
    {
     "name": "stdout",
     "output_type": "stream",
     "text": [
      "dict_keys(['resourceType', 'type', 'entry'])\n"
     ]
    }
   ],
   "source": [
    "# Import JSON and Path libraries to open and explore the data inside JSON file\n",
    "import json\n",
    "from pathlib import Path\n",
    "\n",
    "# Create data path\n",
    "data_dir = Path(\"../data/fhir/\")\n",
    "\n",
    "# Pick and open random json file from a directory to see main keys\n",
    "first_file = next(data_dir.glob(\"*.json\"))\n",
    "\n",
    "with open(first_file, \"r\") as f:\n",
    "    data = json.load(f)\n",
    "\n",
    "print(data.keys())\n"
   ]
  },
  {
   "cell_type": "code",
   "execution_count": 37,
   "id": "66f710fa",
   "metadata": {},
   "outputs": [
    {
     "name": "stdout",
     "output_type": "stream",
     "text": [
      "Number of resources: 442\n",
      "dict_keys(['fullUrl', 'resource', 'request'])\n"
     ]
    }
   ],
   "source": [
    "# Count how many entries (resources) are in the bundle\n",
    "print(\"Number of resources:\", len(data[\"entry\"]))\n",
    "\n",
    "# Access the first entry in the bundle\n",
    "first_entry = data[\"entry\"][0]\n",
    "print(first_entry.keys())\n"
   ]
  },
  {
   "cell_type": "code",
   "execution_count": 38,
   "id": "745c961e",
   "metadata": {},
   "outputs": [
    {
     "name": "stdout",
     "output_type": "stream",
     "text": [
      "Patient\n"
     ]
    }
   ],
   "source": [
    "# Check resource type\n",
    "resource_type = first_entry[\"resource\"][\"resourceType\"]\n",
    "print(resource_type)\n",
    "\n",
    "# Each entry in a FHIR bundle represents a \"resource\", which is a single piece of healthcare information.\n",
    "# The resourceType tells us what kind of data it is, e.g.:\n",
    "# - \"Patient\": demographic info about the patient\n",
    "# - \"Encounter\": a visit or interaction at a healthcare facility\n",
    "# - \"Observation\": a clinical measurement, lab result, or vital sign\n",
    "# - \"Procedure\": a medical procedure performed\n",
    "# - \"MedicationRequest\": prescriptions or medication orders\n",
    "# - \"ExplanationOfBenefit\": billing/insurance info for a visit\n",
    "# Knowing the resource type helps us know which keys and data fields to explore.\n"
   ]
  },
  {
   "cell_type": "code",
   "execution_count": 39,
   "id": "9600c80e",
   "metadata": {},
   "outputs": [
    {
     "name": "stdout",
     "output_type": "stream",
     "text": [
      "dict_keys(['resourceType', 'id', 'meta', 'text', 'extension', 'identifier', 'name', 'telecom', 'gender', 'birthDate', 'address', 'maritalStatus', 'multipleBirthBoolean', 'communication'])\n"
     ]
    }
   ],
   "source": [
    "# Look at the keys inside the actual FHIR resource of the first entry\n",
    "print(first_entry[\"resource\"].keys())"
   ]
  },
  {
   "cell_type": "code",
   "execution_count": 40,
   "id": "b9de3665",
   "metadata": {},
   "outputs": [
    {
     "name": "stdout",
     "output_type": "stream",
     "text": [
      "male\n"
     ]
    }
   ],
   "source": [
    "# Access a specific field of the first resource, e.g., gender (only for Patient resource)\n",
    "print(first_entry[\"resource\"][\"gender\"])"
   ]
  },
  {
   "cell_type": "code",
   "execution_count": 41,
   "id": "fd9c748e",
   "metadata": {},
   "outputs": [
    {
     "name": "stdout",
     "output_type": "stream",
     "text": [
      "ID: 92fb7efc-5cfd-f8d3-927b-42f8ee099531\n",
      "Name: [{'use': 'official', 'family': \"O'Reilly797\", 'given': ['Ahmed109']}]\n",
      "Gender: male\n",
      "BirthDate: 2013-06-12\n",
      "Deceased: None\n",
      "Address: [{'extension': [{'url': 'http://hl7.org/fhir/StructureDefinition/geolocation', 'extension': [{'url': 'latitude', 'valueDecimal': 42.25416489604414}, {'url': 'longitude', 'valueDecimal': -71.70092510023379}]}], 'line': ['857 Kling Arcade'], 'city': 'Worcester', 'state': 'MA', 'postalCode': '01604', 'country': 'US'}]\n"
     ]
    }
   ],
   "source": [
    "# Look at first entry resource: basic patient info\n",
    "patient = first_entry[\"resource\"]\n",
    "\n",
    "print(\"ID:\", patient.get(\"id\"))\n",
    "print(\"Name:\", patient.get(\"name\"))\n",
    "print(\"Gender:\", patient.get(\"gender\"))\n",
    "print(\"BirthDate:\", patient.get(\"birthDate\"))\n",
    "print(\"Deceased:\", patient.get(\"deceasedDateTime\"))\n",
    "print(\"Address:\", patient.get(\"address\"))\n"
   ]
  },
  {
   "cell_type": "code",
   "execution_count": 15,
   "id": "3bf134d9",
   "metadata": {},
   "outputs": [
    {
     "name": "stdout",
     "output_type": "stream",
     "text": [
      "Counter({'Observation': 216, 'Immunization': 35, 'Claim': 34, 'DiagnosticReport': 32, 'Encounter': 27, 'DocumentReference': 27, 'ExplanationOfBenefit': 27, 'Procedure': 13, 'Condition': 10, 'MedicationRequest': 7, 'CareTeam': 5, 'CarePlan': 5, 'Patient': 1, 'AllergyIntolerance': 1, 'ImagingStudy': 1, 'Provenance': 1})\n"
     ]
    }
   ],
   "source": [
    "# Count how many resources of each type exist in this patient record\n",
    "# We go through all entries, get the 'resourceType' of each, and use Counter to summarize\n",
    "from collections import Counter\n",
    "\n",
    "resource_types = [element[\"resource\"][\"resourceType\"] for element in data[\"entry\"]]\n",
    "print(Counter(resource_types))\n"
   ]
  },
  {
   "cell_type": "code",
   "execution_count": 42,
   "id": "1b672a15",
   "metadata": {},
   "outputs": [
    {
     "data": {
      "text/plain": [
       "[{'id': '92fb7efc-5cfd-f8d3-927b-42f8ee099531',\n",
       "  'gender': 'male',\n",
       "  'birthDate': '2013-06-12',\n",
       "  'deceased': None,\n",
       "  'family_name': \"O'Reilly797\",\n",
       "  'given_name': 'Ahmed109',\n",
       "  'city': 'Worcester',\n",
       "  'state': 'MA',\n",
       "  'country': 'US'}]"
      ]
     },
     "execution_count": 42,
     "metadata": {},
     "output_type": "execute_result"
    }
   ],
   "source": [
    "# Extract Patient resources from JSON into a list of dictionaries\n",
    "patient_info = []\n",
    "\n",
    "for entry in data[\"entry\"]:\n",
    "    resource = entry[\"resource\"]\n",
    "    if resource[\"resourceType\"] == \"Patient\":\n",
    "        patient_info.append({\n",
    "            \"id\": resource.get(\"id\"),\n",
    "            \"gender\": resource.get(\"gender\"),\n",
    "            \"birthDate\": resource.get(\"birthDate\"),\n",
    "            \"deceased\": resource.get(\"deceasedDateTime\"),\n",
    "            \"family_name\": resource[\"name\"][0][\"family\"],\n",
    "            \"given_name\": resource[\"name\"][0][\"given\"][0],\n",
    "            \"city\": resource[\"address\"][0][\"city\"] if resource.get(\"address\") else None,\n",
    "            \"state\": resource[\"address\"][0][\"state\"] if resource.get(\"address\") else None,\n",
    "            \"country\": resource[\"address\"][0][\"country\"] if resource.get(\"address\") else None,\n",
    "        })\n",
    "\n",
    "patient_info\n"
   ]
  },
  {
   "cell_type": "code",
   "execution_count": 43,
   "id": "4b9dcf07",
   "metadata": {},
   "outputs": [
    {
     "name": "stdout",
     "output_type": "stream",
     "text": [
      "Never Married\n"
     ]
    }
   ],
   "source": [
    "first_entry = data[\"entry\"][0]        # get the first entry\n",
    "resource = first_entry[\"resource\"]    # get the resource inside that entry\n",
    "marital_status = resource[\"maritalStatus\"][\"text\"]  # get text from maritalStatus\n",
    "print(marital_status)\n"
   ]
  },
  {
   "cell_type": "code",
   "execution_count": 44,
   "id": "ae0a635d",
   "metadata": {},
   "outputs": [
    {
     "name": "stdout",
     "output_type": "stream",
     "text": [
      "                                     id gender   birthDate deceased  \\\n",
      "0  92fb7efc-5cfd-f8d3-927b-42f8ee099531   male  2013-06-12     None   \n",
      "\n",
      "   family_name given_name       city state country  \n",
      "0  O'Reilly797   Ahmed109  Worcester    MA      US  \n"
     ]
    }
   ],
   "source": [
    "# Convert the list into a pandas DataFrame for easy viewing\n",
    "import pandas as pd\n",
    "patient_info_df = pd.DataFrame(patient_info)\n",
    "print(patient_info_df.head())"
   ]
  }
 ],
 "metadata": {
  "kernelspec": {
   "display_name": ".data",
   "language": "python",
   "name": "python3"
  },
  "language_info": {
   "codemirror_mode": {
    "name": "ipython",
    "version": 3
   },
   "file_extension": ".py",
   "mimetype": "text/x-python",
   "name": "python",
   "nbconvert_exporter": "python",
   "pygments_lexer": "ipython3",
   "version": "3.13.7"
  }
 },
 "nbformat": 4,
 "nbformat_minor": 5
}
